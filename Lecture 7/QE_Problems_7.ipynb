{
 "cells": [
  {
   "cell_type": "markdown",
   "metadata": {},
   "source": [
    "### Problem 7"
   ]
  },
  {
   "cell_type": "code",
   "execution_count": 1,
   "metadata": {},
   "outputs": [],
   "source": [
    "import numpy as np\n",
    "from scipy.optimize import fsolve, minimize "
   ]
  },
  {
   "cell_type": "markdown",
   "metadata": {},
   "source": [
    "#### Problem 1\n",
    "\n",
    "<u> Part (a) </u> <br>\n",
    "Implement the generalized equilibrium model used in class, but with Cobb-Douglasutility functions rather than quasilinear utility. (As was done in class, program the firstorder conditions for the consumers.) Use u(x1,x2)= 0.3 log x1 + 0.7 log x2. Letconsumer a be endowed with 2 units of each good and consumer 3 be endowed with1 unit of each good. Figure out the price and the quantities consumed."
   ]
  },
  {
   "cell_type": "code",
   "execution_count": null,
   "metadata": {},
   "outputs": [],
   "source": []
  }
 ],
 "metadata": {
  "interpreter": {
   "hash": "7bd076a98b7a23779b147e0bdebe4d9dfb1a461a12a0b367a6de5850c859dc51"
  },
  "kernelspec": {
   "display_name": "Python 3.8.3 ('base')",
   "language": "python",
   "name": "python3"
  },
  "language_info": {
   "codemirror_mode": {
    "name": "ipython",
    "version": 3
   },
   "file_extension": ".py",
   "mimetype": "text/x-python",
   "name": "python",
   "nbconvert_exporter": "python",
   "pygments_lexer": "ipython3",
   "version": "3.8.3"
  },
  "orig_nbformat": 4
 },
 "nbformat": 4,
 "nbformat_minor": 2
}
